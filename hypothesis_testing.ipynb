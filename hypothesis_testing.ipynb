{
 "cells": [
  {
   "cell_type": "markdown",
   "metadata": {},
   "source": [
    "# hypothesis_testing exercise"
   ]
  },
  {
   "cell_type": "markdown",
   "metadata": {},
   "source": [
    "exercise 1\n",
    "Ace Realty wants to determine whether the average time it takes to sell homes\n",
    "is different for its two offices. A sample of 40 sales from office #1 revealed\n",
    "a mean of 90 days and a standard deviation of 15 days. A sample of 50 sales \n",
    "from office #2 revealed a mean of 100 days and a standard deviation of 20 days.\n",
    "Use a .05 level of significance."
   ]
  },
  {
   "cell_type": "markdown",
   "metadata": {},
   "source": [
    "2 offices |  is average time it takes to sell homes different for its two offices?\n",
    "    H0 - \n",
    "    1) sample of 40 sales, mean of 90 days - std 15 days\n",
    "    2) sample of 50 sales, mean of 100 days - std 20 days\n",
    "  "
   ]
  },
  {
   "cell_type": "code",
   "execution_count": 3,
   "metadata": {},
   "outputs": [],
   "source": [
    "\n",
    "from pydataset import data\n",
    "mpg = data('mpg')"
   ]
  },
  {
   "cell_type": "code",
   "execution_count": null,
   "metadata": {},
   "outputs": [],
   "source": []
  },
  {
   "cell_type": "markdown",
   "metadata": {},
   "source": [
    "Load the mpg dataset and use it to answer the following questions:\n",
    "\n",
    "Is there a difference in fuel-efficiency in cars from 2008 vs 1999?\n",
    "Are compact cars more fuel-efficient than the average car?\n",
    "Do manual cars get better gas mileage than automatic cars?"
   ]
  },
  {
   "cell_type": "markdown",
   "metadata": {},
   "source": [
    "NOTE to self for connecting to DB\n",
    "    import pandas as pd\n",
    "    from env import host, user, password\n",
    "    url = f'mysql+pymysql://{user}:{password}@{host}/employees' df = pd.read_sql('SELECT * FROM employees LIMIT 5 OFFSET 50', url) print(df)"
   ]
  }
 ],
 "metadata": {
  "kernelspec": {
   "display_name": "Python 3",
   "language": "python",
   "name": "python3"
  },
  "language_info": {
   "codemirror_mode": {
    "name": "ipython",
    "version": 3
   },
   "file_extension": ".py",
   "mimetype": "text/x-python",
   "name": "python",
   "nbconvert_exporter": "python",
   "pygments_lexer": "ipython3",
   "version": "3.7.3"
  }
 },
 "nbformat": 4,
 "nbformat_minor": 2
}
