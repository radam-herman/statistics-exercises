{
 "cells": [
  {
   "cell_type": "markdown",
   "metadata": {},
   "source": [
    "probability_distributions"
   ]
  },
  {
   "cell_type": "markdown",
   "metadata": {},
   "source": [
    "note to self - finished the Scipy/ Theory questions\n",
    "now working on finishing simulations"
   ]
  },
  {
   "cell_type": "markdown",
   "metadata": {},
   "source": [
    "# note - run these both with simulation and scipy"
   ]
  },
  {
   "cell_type": "markdown",
   "metadata": {},
   "source": [
    "For the following problems, use python to simulate the problem and calculate an experimental probability, then compare that to the theoretical probability.\n",
    "\n",
    "1 A bank found that the average number of cars waiting during the noon hour at a drive-up window follows a Poisson distribution with a mean of 2 cars. Make a chart of this distribution and answer these questions concerning the probability of cars waiting at the drive-up window.\n",
    "\n",
    " What is the probability that no cars drive up in the noon hour?\n",
    "\n",
    " What is the probability that 3 or more cars come through the drive through?\n",
    "\n",
    " How likely is it that the drive through gets at least 1 car?\n",
    "\n",
    "\n",
    "2 Grades of State University graduates are normally distributed with a mean of 3.0 and a standard deviation of .3. Calculate the following:\n",
    "\n",
    "    What grade point average is required to be in the top 5% of the graduating class?\n",
    "    \n",
    "    An eccentric alumnus left scholarship money for students in the third decile from the bottom of their class.\n",
    "    Determine the range of the third decile. \n",
    "    Would a student with a 2.8 grade point average qualify for this scholarship?\n",
    "\n",
    "3 A marketing website has an average click-through rate of 2%. One day they observe 4326 visitors and 97 click-throughs. How likely is it that this many people or more click through?\n",
    "\n",
    "4 You are working on some statistics homework consisting of 100 questions where all of the answers are a probability rounded to the hundreths place. Looking to save time, you put down random probabilities as the answer to each question.\n",
    "    What is the probability that at least one of your first 60 answers is correct?\n",
    "\n",
    "\n",
    "5 The codeup staff tends to get upset when the student break area is not cleaned up. Suppose that there's a 3% chance that any one student cleans the break area when they visit it, and, on any given day, about 90% of the 3 active cohorts of 22 students visit the break area. How likely is it that the break area gets cleaned up each day? How likely is it that it goes two days without getting cleaned up? All week?\n",
    "\n",
    "6 You want to get lunch at La Panaderia, but notice that the line is usually very long at lunchtime. After several weeks of careful observation, you notice that the average number of people in line when your lunch break starts is normally distributed with a mean of 15 and standard deviation of 3. If it takes 2 minutes for each person to order, and 10 minutes from ordering to getting your food, what is the likelihood that you have at least 15 minutes left to eat your food before you have to go back to class? Assume you have one hour for lunch, and ignore travel time to and from La Panaderia.\n",
    "\n",
    "While time is the most common interval used, the poisson distribution can also be used for intervals like distance, area, or volume. ↩"
   ]
  },
  {
   "cell_type": "code",
   "execution_count": null,
   "metadata": {},
   "outputs": [],
   "source": []
  },
  {
   "cell_type": "code",
   "execution_count": 9,
   "metadata": {},
   "outputs": [],
   "source": [
    "import numpy as np\n",
    "import pandas as pd\n",
    "from scipy import stats\n",
    "from scipy.stats import norm\n",
    "\n",
    "import matplotlib.pyplot as plt"
   ]
  },
  {
   "cell_type": "code",
   "execution_count": null,
   "metadata": {},
   "outputs": [],
   "source": [
    "# 1\n",
    "# A bank found that the average number of cars waiting during the noon hour \n",
    "# at a drive-up window follows a Poisson distribution with a mean of 2 cars. \n",
    "\n",
    "# Make a chart of this distribution and answer these questions concerning \n",
    "# the probability of cars waiting at the drive-up window.\n",
    "\n",
    "# What is the probability that no cars drive up in the noon hour?\n",
    "\n",
    "# What is the probability that 3 or more cars come through the drive through?\n",
    "\n",
    "# How likely is it that the drive through gets at least 1 car?"
   ]
  },
  {
   "cell_type": "code",
   "execution_count": null,
   "metadata": {},
   "outputs": [],
   "source": []
  },
  {
   "cell_type": "code",
   "execution_count": null,
   "metadata": {},
   "outputs": [],
   "source": [
    "# 1 Theory\n",
    "# A bank found that the average number of cars waiting during the noon hour \n",
    "# at a drive-up window follows a Poisson distribution with a mean of 2 cars. \n",
    "\n",
    "# Make a chart of this distribution and answer these questions concerning \n",
    "# the probability of cars waiting at the drive-up window.\n",
    "\n",
    "# What is the probability that no cars drive up in the noon hour?\n",
    "\n",
    "# What is the probability that 3 or more cars come through the drive through?\n",
    "\n",
    "# How likely is it that the drive through gets at least 1 car?"
   ]
  },
  {
   "cell_type": "code",
   "execution_count": null,
   "metadata": {},
   "outputs": [],
   "source": []
  },
  {
   "cell_type": "code",
   "execution_count": 25,
   "metadata": {},
   "outputs": [
    {
     "ename": "IndentationError",
     "evalue": "unexpected indent (<ipython-input-25-d3e646e4b817>, line 5)",
     "output_type": "error",
     "traceback": [
      "\u001b[0;36m  File \u001b[0;32m\"<ipython-input-25-d3e646e4b817>\"\u001b[0;36m, line \u001b[0;32m5\u001b[0m\n\u001b[0;31m    np.quantile for simulation\u001b[0m\n\u001b[0m    ^\u001b[0m\n\u001b[0;31mIndentationError\u001b[0m\u001b[0;31m:\u001b[0m unexpected indent\n"
     ]
    }
   ],
   "source": [
    "# 2 - Grades of State University graduates are normally distributed \n",
    "# with a mean of 3.0 and a standard deviation of .3. Calculate the following:\n",
    "\n",
    "# Determine the range of the third decile. Would a student with a 2.8 grade point average qualify for this scholarship?\n",
    "#   np.quantile for simulation\n",
    "# If I have a GPA of 3.5, what percentile am I in?\n",
    "#   can determine w/ np.percentile or .quantile\n",
    "\n",
    "mu = 3.0\n",
    "sigma = .3\n",
    "grades = np.random.normal(mu, sigma, 1000)\n",
    "\n",
    "   \n",
    "    \n",
    "    \n",
    "\n",
    "    # Would a student with a 2.8 grade point average qualify for this scholarship?"
   ]
  },
  {
   "cell_type": "code",
   "execution_count": 21,
   "metadata": {},
   "outputs": [
    {
     "data": {
      "text/plain": [
       "3.509607932676088"
      ]
     },
     "execution_count": 21,
     "metadata": {},
     "output_type": "execute_result"
    }
   ],
   "source": [
    "     # What grade point average is required to be in the top 5% of the graduating class?\n",
    "np.percentile(grades, 95)"
   ]
  },
  {
   "cell_type": "code",
   "execution_count": 22,
   "metadata": {},
   "outputs": [
    {
     "data": {
      "text/plain": [
       "2.694909125746982"
      ]
     },
     "execution_count": 22,
     "metadata": {},
     "output_type": "execute_result"
    }
   ],
   "source": [
    "     # What GPA constitutes the bottom 15% of the class?\n",
    "np.percentile(grades, 15)"
   ]
  },
  {
   "cell_type": "code",
   "execution_count": 23,
   "metadata": {},
   "outputs": [
    {
     "data": {
      "text/plain": [
       "2.8486214947879693"
      ]
     },
     "execution_count": 23,
     "metadata": {},
     "output_type": "execute_result"
    }
   ],
   "source": [
    "   # An eccentric alumnus left scholarship money for students in the third decile from the bottom of their class.\n",
    "    # Determine the range of the third decile. \n",
    "np.quantile(grades, .3)"
   ]
  },
  {
   "cell_type": "code",
   "execution_count": null,
   "metadata": {},
   "outputs": [],
   "source": [
    "    # Would a student with a 2.8 grade point average qualify for this scholarship?\n",
    "yes"
   ]
  },
  {
   "cell_type": "code",
   "execution_count": null,
   "metadata": {},
   "outputs": [],
   "source": [
    "   # If I have a GPA of 3.5, what percentile am I in?\n",
    "      # 3.4~"
   ]
  },
  {
   "cell_type": "code",
   "execution_count": 31,
   "metadata": {},
   "outputs": [
    {
     "data": {
      "text/plain": [
       "3.498431566395623"
      ]
     },
     "execution_count": 31,
     "metadata": {},
     "output_type": "execute_result"
    }
   ],
   "source": [
    "np.quantile(grades, .946)"
   ]
  },
  {
   "cell_type": "code",
   "execution_count": 32,
   "metadata": {},
   "outputs": [],
   "source": [
    "   # theory\n",
    "# 2 Grades of State University graduates are normally distributed \n",
    "# with a mean of 3.0 and a standard deviation of .3. Calculate the following:\n",
    "\n",
    "    # What grade point average is required to be in the top 5% of the graduating class?\n",
    "    # What GPA constitutes the bottom 15% of the class?\n",
    "    # An eccentric alumnus left scholarship money for students in the third decile from the bottom of their class.\n",
    "    # Determine the range of the third decile. \n",
    "    # Would a student with a 2.8 grade point average qualify for this scholarship?\n",
    "    # If I have a GPA of 3.5, what percentile am I in?"
   ]
  },
  {
   "cell_type": "code",
   "execution_count": 34,
   "metadata": {},
   "outputs": [],
   "source": []
  },
  {
   "cell_type": "code",
   "execution_count": 38,
   "metadata": {},
   "outputs": [
    {
     "data": {
      "text/plain": [
       "3.4934560880854417"
      ]
     },
     "execution_count": 38,
     "metadata": {},
     "output_type": "execute_result"
    }
   ],
   "source": [
    "    # What grade point average is required to be in the top 5% of the graduating class?\n",
    "stats.norm(3.0, .3).isf(.05)\n"
   ]
  },
  {
   "cell_type": "code",
   "execution_count": 41,
   "metadata": {},
   "outputs": [
    {
     "data": {
      "text/plain": [
       "2.689069983151863"
      ]
     },
     "execution_count": 41,
     "metadata": {},
     "output_type": "execute_result"
    }
   ],
   "source": [
    "   # What GPA constitutes the bottom 15% of the class?\n",
    "stats.norm(3.0, .3).ppf(.15)"
   ]
  },
  {
   "cell_type": "code",
   "execution_count": 28,
   "metadata": {},
   "outputs": [],
   "source": [
    "stats.norm?\n"
   ]
  },
  {
   "cell_type": "code",
   "execution_count": null,
   "metadata": {},
   "outputs": [],
   "source": [
    "#3 simulation\n",
    "# A marketing website has an average click-through rate of 2%. \n",
    "# One day they observe 4326 visitors and 97 click-throughs.\n",
    "# How likely is it that this many people or more click through?"
   ]
  },
  {
   "cell_type": "code",
   "execution_count": null,
   "metadata": {},
   "outputs": [],
   "source": []
  },
  {
   "cell_type": "code",
   "execution_count": null,
   "metadata": {},
   "outputs": [],
   "source": [
    "#3 theory\n",
    "# A marketing website has an average click-through rate of 2%. \n",
    "# One day they observe 4326 visitors and 97 click-throughs.\n",
    "# How likely is it that this many people or more click through?\n",
    "\n",
    "  # visitors = 4326  #aka\n",
    "  # click_thru = .02\n",
    "  # n [threshold] 97 , need n-1 or 96 because SF is exclusive\n"
   ]
  },
  {
   "cell_type": "code",
   "execution_count": 22,
   "metadata": {},
   "outputs": [
    {
     "data": {
      "text/plain": [
       "0.1397582363130086"
      ]
     },
     "execution_count": 22,
     "metadata": {},
     "output_type": "execute_result"
    }
   ],
   "source": [
    "stats.binom(4326, .02).sf(96)"
   ]
  },
  {
   "cell_type": "code",
   "execution_count": 21,
   "metadata": {},
   "outputs": [],
   "source": [
    "## not a POISSON. stats.poisson(5).sf(7)"
   ]
  },
  {
   "cell_type": "code",
   "execution_count": null,
   "metadata": {},
   "outputs": [],
   "source": [
    "stats.norm(4326, .97).isf(7)"
   ]
  },
  {
   "cell_type": "code",
   "execution_count": 5,
   "metadata": {},
   "outputs": [],
   "source": [
    "# 4 You are working on some statistics homework consisting of 100 questions \n",
    "# where all of the answers are a probability rounded to the hundreths place. \n",
    "#   Looking to save time, you put down random probabilities as the answer to each question.\n",
    "\n",
    "#   What is the probability that at least one of your first 60 answers is correct?"
   ]
  },
  {
   "cell_type": "code",
   "execution_count": null,
   "metadata": {},
   "outputs": [],
   "source": [
    "NP.RAND"
   ]
  },
  {
   "cell_type": "code",
   "execution_count": null,
   "metadata": {},
   "outputs": [],
   "source": [
    "# 4 theory\n",
    "# You are working on some statistics homework consisting of 100 questions \n",
    "# where all of the answers are a probability rounded to the hundreths place. \n",
    "#   Looking to save time, you put down random probabilities as the answer to each question.\n",
    "\n",
    "#   What is the probability that at least one of your first 60 answers is correct?"
   ]
  },
  {
   "cell_type": "markdown",
   "metadata": {},
   "source": [
    "100 questions / answers as .00%\n",
    "    really 60\n",
    " .01 = probablitiy ( .00 ... .99 )\n",
    " binomial [ like coin toss, ie just right or wrong ]\n",
    "  60 = ncols\n",
    "  \n",
    "stats.binom(30 - TRIALS, .25 - PROBABILITY). ????"
   ]
  },
  {
   "cell_type": "code",
   "execution_count": 11,
   "metadata": {},
   "outputs": [
    {
     "data": {
      "text/plain": [
       "0.4528433576092388"
      ]
     },
     "execution_count": 11,
     "metadata": {},
     "output_type": "execute_result"
    }
   ],
   "source": [
    "stats.binom(60, .01).sf(0)"
   ]
  },
  {
   "cell_type": "code",
   "execution_count": 12,
   "metadata": {},
   "outputs": [
    {
     "data": {
      "text/plain": [
       "0.4528433576092388"
      ]
     },
     "execution_count": 12,
     "metadata": {},
     "output_type": "execute_result"
    }
   ],
   "source": [
    "# sans 1, this finds probability of getting 0 correct\n",
    "  # subtracting from 1 reveals the remainder that 1 could be correct\n",
    "1 - stats.binom(60, .01).cdf(0)"
   ]
  },
  {
   "cell_type": "code",
   "execution_count": null,
   "metadata": {},
   "outputs": [],
   "source": []
  },
  {
   "cell_type": "code",
   "execution_count": null,
   "metadata": {},
   "outputs": [],
   "source": [
    "# 5 The codeup staff tends to get upset when the student break area is not cleaned up. \n",
    "# Suppose that there's a 3% chance that any one student cleans the break area when they visit it,\n",
    "#    and, on any given day, about 90% of the 3 active cohorts of 22 students visit the break area.\n",
    "\n",
    "# How likely is it that the break area gets cleaned up each day? \n",
    "\n",
    "# How likely is it that it goes two days without getting cleaned up? \n",
    "# All week?"
   ]
  },
  {
   "cell_type": "code",
   "execution_count": 18,
   "metadata": {},
   "outputs": [
    {
     "data": {
      "text/plain": [
       "0.97"
      ]
     },
     "execution_count": 18,
     "metadata": {},
     "output_type": "execute_result"
    }
   ],
   "source": []
  },
  {
   "cell_type": "code",
   "execution_count": null,
   "metadata": {},
   "outputs": [],
   "source": [
    "# 5 theory\n",
    "# The codeup staff tends to get upset when the student break area is not cleaned up. \n",
    "# Suppose that there's a 3% chance that any one student cleans the break area when they visit it,\n",
    "#    and, on any given day, about 90% of the 3 active cohorts of 22 students visit the break area.\n",
    "\n",
    "# How likely is it that the break area gets cleaned up each day? \n",
    "\n",
    "# How likely is it that it goes two days without getting cleaned up? \n",
    "# All week?\n",
    "\n",
    "# 90% of 66 visitors  \n",
    "# 1 days [any given day - chances equal]\n",
    "    # do still use 5 for full work week? or 7\n"
   ]
  },
  {
   "cell_type": "code",
   "execution_count": 24,
   "metadata": {},
   "outputs": [
    {
     "data": {
      "text/plain": [
       "59.0"
      ]
     },
     "execution_count": 24,
     "metadata": {},
     "output_type": "execute_result"
    }
   ],
   "source": [
    "visits = round(66 * .9, 0)\n",
    "visits"
   ]
  },
  {
   "cell_type": "code",
   "execution_count": null,
   "metadata": {},
   "outputs": [],
   "source": [
    "#  one day setup\n",
    "# visits = 59\n",
    "# prob = .03\n"
   ]
  },
  {
   "cell_type": "code",
   "execution_count": 20,
   "metadata": {},
   "outputs": [],
   "source": [
    "# normal 3% chance of 1 student cleaning break area when visited\n",
    "# stats.binom(1, .03).pmf(0)"
   ]
  },
  {
   "cell_type": "code",
   "execution_count": 25,
   "metadata": {},
   "outputs": [
    {
     "data": {
      "text/plain": [
       "0.8342199288437355"
      ]
     },
     "execution_count": 25,
     "metadata": {},
     "output_type": "execute_result"
    }
   ],
   "source": [
    "# again, area under cirle... to left of 1 aka \"> 0\"(aka at least more than 0  which means clean)\n",
    "# so SF = n-1 or 1 - 1 = 0\n",
    "stats.binom(59, .03).sf(0)"
   ]
  },
  {
   "cell_type": "code",
   "execution_count": 26,
   "metadata": {},
   "outputs": [
    {
     "data": {
      "text/plain": [
       "0.028900000000000012"
      ]
     },
     "execution_count": 26,
     "metadata": {},
     "output_type": "execute_result"
    }
   ],
   "source": [
    "# so day chance for being clean = 83~%\n",
    "# now find chance for 2 days to be TRUE\n",
    "# still a binom fx - aka obs & probabilities\n",
    "\n",
    "# remember the area under the curve - which direction = which fx\n",
    "  # NOTE - cdf is inclusive!!!\n",
    "stats.binom(2, .83).cdf(0)"
   ]
  },
  {
   "cell_type": "code",
   "execution_count": 27,
   "metadata": {},
   "outputs": [
    {
     "data": {
      "text/plain": [
       "4.103386730000007e-06"
      ]
     },
     "execution_count": 27,
     "metadata": {},
     "output_type": "execute_result"
    }
   ],
   "source": [
    "# ALL WEEK\n",
    "\n",
    "stats.binom(7, .83).cdf(0)\n"
   ]
  },
  {
   "cell_type": "code",
   "execution_count": null,
   "metadata": {},
   "outputs": [],
   "source": [
    "# 6 \n",
    "# You want to get lunch at La Panaderia, but notice that the line is usually very long at lunchtime. \n",
    "# After several weeks of careful observation, you notice that the average number of people \n",
    "# in line when your lunch break starts is normally distributed with a mean of 15 and standard deviation of 3. \n",
    "\n",
    "# If it takes 2 minutes for each person to order, and 10 minutes from ordering to getting your food, \n",
    "        # what is the likelihood that you have at least 15 minutes left to eat your food \n",
    "        # before you have to go back to class? \n",
    "\n",
    "# Assume you have one hour for lunch, and ignore travel time to and from La Panaderia.\n"
   ]
  },
  {
   "cell_type": "code",
   "execution_count": null,
   "metadata": {},
   "outputs": [],
   "source": []
  },
  {
   "cell_type": "code",
   "execution_count": null,
   "metadata": {},
   "outputs": [],
   "source": [
    "# 6 theory\n",
    "# You want to get lunch at La Panaderia, but notice that the line is usually very long at lunchtime. \n",
    "# After several weeks of careful observation, you notice that the average number of people \n",
    "# in line when your lunch break starts is normally distributed with a mean of 15 and standard deviation of 3. \n",
    "\n",
    "# If it takes 2 minutes for each person to order, and 10 minutes from ordering to getting your food, \n",
    "        # what is the likelihood that you have at least 15 minutes left to eat your food \n",
    "        # before you have to go back to class? \n",
    "\n",
    "# Assume you have one hour for lunch, and ignore travel time to and from La Panaderia.\n",
    "\n",
    "# avg observation has mean 15, with std 3\n",
    "    # would be a normal dist\n",
    "# an_order = 2 min #/ person\n",
    "# food_begotten = an_order + 10 min\n",
    "\n",
    "# ? have 15min left (or consumed under 46 minutes)\n",
    "\n"
   ]
  },
  {
   "cell_type": "code",
   "execution_count": null,
   "metadata": {},
   "outputs": [],
   "source": [
    "# mis en place\n",
    "mean = 15\n",
    "std_dev = 3\n",
    "lunch = 60\n",
    "my_compl_order = 12  # aka 2 per person + 10 fm order to reciept\n",
    "time_2eat = 15\n",
    "total_excluded_time = 15 + 12\n",
    "\n",
    "# with a mean of 15 and 2 min per person = 30 min\n",
    "# sd = 2 * sd of 3 = 6\n",
    "# time_left = 60 min - \"time to order\" - \"time to recieve order\" = 33 min\n",
    "\n"
   ]
  },
  {
   "cell_type": "code",
   "execution_count": 30,
   "metadata": {},
   "outputs": [
    {
     "data": {
      "text/plain": [
       "0.6914624612740131"
      ]
     },
     "execution_count": 30,
     "metadata": {},
     "output_type": "execute_result"
    }
   ],
   "source": [
    "stats.norm(30, 6).cdf(33)"
   ]
  },
  {
   "cell_type": "code",
   "execution_count": null,
   "metadata": {},
   "outputs": [],
   "source": [
    "3"
   ]
  },
  {
   "cell_type": "code",
   "execution_count": null,
   "metadata": {},
   "outputs": [],
   "source": []
  },
  {
   "cell_type": "markdown",
   "metadata": {},
   "source": [
    "# in class work below"
   ]
  },
  {
   "cell_type": "markdown",
   "metadata": {},
   "source": [
    "# for note\n",
    "μ = 3.0\n",
    "σ = .3\n",
    "\n",
    "grades = stats.norm(μ, σ)"
   ]
  },
  {
   "cell_type": "code",
   "execution_count": 1,
   "metadata": {},
   "outputs": [
    {
     "data": {
      "text/plain": [
       "<module 'scipy.stats' from '/usr/local/anaconda3/lib/python3.7/site-packages/scipy/stats/__init__.py'>"
      ]
     },
     "execution_count": 1,
     "metadata": {},
     "output_type": "execute_result"
    }
   ],
   "source": [
    "from scipy import stats\n",
    "stats"
   ]
  },
  {
   "cell_type": "code",
   "execution_count": null,
   "metadata": {},
   "outputs": [],
   "source": [
    "die_dist = stats.randint(1, 7)"
   ]
  },
  {
   "cell_type": "code",
   "execution_count": null,
   "metadata": {},
   "outputs": [],
   "source": []
  },
  {
   "cell_type": "markdown",
   "metadata": {},
   "source": [
    "Use a scipy statistical distribution to answer the questions below:\n",
    "\n",
    "die_distribution = stats.randint(1, 7)\n",
    "What is the probability of rolling a 1?\n",
    "There's a 1 in 2 chance that I'll roll higher than what number?\n",
    "What is the probability of rolling less than or equal to 2?\n",
    "There's a 5 in 6 chance that my roll will be less than or equal to what number?\n",
    "There's a 1 in 2 chance that my roll will be less than or equal to what number?\n",
    "What is the probability of rolling less than or equal to 6?\n",
    "There's a 1 in 3 chance that I'll roll higher than what number?\n",
    "What is the probability of rolling higher than a 1?\n",
    "There's a 2 in 3 chance that my roll will be less than or equal to what number?\n",
    "There's a 2 in 3 chance that I'll roll higher than what number?\n",
    "There's a 1 in 3 chance that my roll will be less than or equal to what number?\n",
    "There's a 1 in 6 chance that I'll roll higher than what number?"
   ]
  },
  {
   "cell_type": "code",
   "execution_count": 2,
   "metadata": {},
   "outputs": [
    {
     "data": {
      "text/plain": [
       "<module 'scipy.stats' from '/usr/local/anaconda3/lib/python3.7/site-packages/scipy/stats/__init__.py'>"
      ]
     },
     "execution_count": 2,
     "metadata": {},
     "output_type": "execute_result"
    }
   ],
   "source": [
    "from scipy import stats\n",
    "stats"
   ]
  },
  {
   "cell_type": "code",
   "execution_count": 3,
   "metadata": {},
   "outputs": [
    {
     "data": {
      "text/plain": [
       "0.16666666666666666"
      ]
     },
     "execution_count": 3,
     "metadata": {},
     "output_type": "execute_result"
    }
   ],
   "source": [
    "die_distribution = stats.randint(1, 7)\n",
    "# What is the probability of rolling a 1?\n",
    "die_distribution.pmf(1)"
   ]
  },
  {
   "cell_type": "code",
   "execution_count": 4,
   "metadata": {},
   "outputs": [
    {
     "data": {
      "text/plain": [
       "3.0"
      ]
     },
     "execution_count": 4,
     "metadata": {},
     "output_type": "execute_result"
    }
   ],
   "source": [
    "# There's a 1 in 2 chance that I'll roll higher than what number?\n",
    "die_distribution.isf(1/2)"
   ]
  },
  {
   "cell_type": "code",
   "execution_count": 6,
   "metadata": {},
   "outputs": [
    {
     "data": {
      "text/plain": [
       "0.3333333333333333"
      ]
     },
     "execution_count": 6,
     "metadata": {},
     "output_type": "execute_result"
    }
   ],
   "source": [
    "# What is the probability of rolling less than or equal to 2?\n",
    "die_distribution.cdf(2)"
   ]
  },
  {
   "cell_type": "code",
   "execution_count": 7,
   "metadata": {},
   "outputs": [
    {
     "data": {
      "text/plain": [
       "5.0"
      ]
     },
     "execution_count": 7,
     "metadata": {},
     "output_type": "execute_result"
    }
   ],
   "source": [
    "# There's a 5 in 6 chance that my roll will be less than or equal to what number?\n",
    "die_distribution.ppf(5/6)"
   ]
  },
  {
   "cell_type": "code",
   "execution_count": 8,
   "metadata": {},
   "outputs": [
    {
     "data": {
      "text/plain": [
       "3.0"
      ]
     },
     "execution_count": 8,
     "metadata": {},
     "output_type": "execute_result"
    }
   ],
   "source": [
    "# There's a 1 in 2 chance that my roll will be less than or equal to what number?\n",
    "die_distribution.ppf(1/2)"
   ]
  },
  {
   "cell_type": "code",
   "execution_count": 9,
   "metadata": {},
   "outputs": [
    {
     "data": {
      "text/plain": [
       "1.0"
      ]
     },
     "execution_count": 9,
     "metadata": {},
     "output_type": "execute_result"
    }
   ],
   "source": [
    "# What is the probability of rolling less than or equal to 6?\n",
    "die_distribution.cdf(6)"
   ]
  },
  {
   "cell_type": "code",
   "execution_count": 10,
   "metadata": {},
   "outputs": [
    {
     "data": {
      "text/plain": [
       "4.0"
      ]
     },
     "execution_count": 10,
     "metadata": {},
     "output_type": "execute_result"
    }
   ],
   "source": [
    "# There's a 1 in 3 chance that I'll roll higher than what number?\n",
    "die_distribution.isf(1/3)"
   ]
  },
  {
   "cell_type": "code",
   "execution_count": null,
   "metadata": {},
   "outputs": [],
   "source": []
  }
 ],
 "metadata": {
  "kernelspec": {
   "display_name": "Python 3",
   "language": "python",
   "name": "python3"
  },
  "language_info": {
   "codemirror_mode": {
    "name": "ipython",
    "version": 3
   },
   "file_extension": ".py",
   "mimetype": "text/x-python",
   "name": "python",
   "nbconvert_exporter": "python",
   "pygments_lexer": "ipython3",
   "version": "3.7.3"
  }
 },
 "nbformat": 4,
 "nbformat_minor": 2
}
