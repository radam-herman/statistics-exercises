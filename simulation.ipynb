{
 "cells": [
  {
   "cell_type": "markdown",
   "metadata": {},
   "source": [
    "Simulation exercise done in JNB"
   ]
  },
  {
   "cell_type": "code",
   "execution_count": 2,
   "metadata": {},
   "outputs": [],
   "source": [
    "import numpy as np\n",
    "import pandas as pd\n",
    "np.random.seed(123)\n",
    "\n"
   ]
  },
  {
   "cell_type": "markdown",
   "metadata": {},
   "source": [
    "# 1 How likely is it that you roll doubles when rolling two dice?"
   ]
  },
  {
   "cell_type": "code",
   "execution_count": 44,
   "metadata": {},
   "outputs": [],
   "source": [
    "n_trials = nrows = 50000000\n",
    "n_dice = ncols = 2\n",
    "np.random.seed(123)\n",
    "\n",
    "rolls = np.random.choice([1, 2, 3, 4, 5, 6], n_trials * n_dice).reshape(nrows, ncols)\n",
    "#rolls"
   ]
  },
  {
   "cell_type": "code",
   "execution_count": 45,
   "metadata": {},
   "outputs": [],
   "source": [
    "doubles_count = 0\n",
    "for roll in rolls:\n",
    "    if roll[0] == roll[1]:\n",
    "        doubles_count += 1"
   ]
  },
  {
   "cell_type": "code",
   "execution_count": 46,
   "metadata": {},
   "outputs": [
    {
     "data": {
      "text/plain": [
       "0.16670292"
      ]
     },
     "execution_count": 46,
     "metadata": {},
     "output_type": "execute_result"
    }
   ],
   "source": [
    "probability_of_doubles = doubles_count / len(rolls)\n",
    "probability_of_doubles"
   ]
  },
  {
   "cell_type": "code",
   "execution_count": 25,
   "metadata": {},
   "outputs": [
    {
     "data": {
      "text/plain": [
       "array([ 9,  8,  6,  7,  4,  3,  3,  3, 10,  6])"
      ]
     },
     "execution_count": 25,
     "metadata": {},
     "output_type": "execute_result"
    }
   ],
   "source": [
    "equal_to = [2,4,6,8,10,12]\n",
    "# nrow.sum() in equal_to     # this is to set true\n",
    "#np.sum([[0, 1], [0, 5]], axis=1)\n",
    "\n",
    "roll_sum = np.sum(rolls, axis=1)\n",
    "roll_sum"
   ]
  },
  {
   "cell_type": "code",
   "execution_count": null,
   "metadata": {},
   "outputs": [],
   "source": [
    "# lambda?\n",
    "# \n",
    "\n",
    "roll_sum in "
   ]
  },
  {
   "cell_type": "code",
   "execution_count": null,
   "metadata": {},
   "outputs": [],
   "source": []
  },
  {
   "cell_type": "code",
   "execution_count": null,
   "metadata": {},
   "outputs": [],
   "source": []
  },
  {
   "cell_type": "code",
   "execution_count": 12,
   "metadata": {},
   "outputs": [
    {
     "data": {
      "text/plain": [
       "array([1, 5, 2, 4, 3, 5, 3, 5, 1, 6, 1, 2, 4, 5, 5, 5, 2, 6, 4, 3])"
      ]
     },
     "execution_count": 12,
     "metadata": {},
     "output_type": "execute_result"
    }
   ],
   "source": [
    "#showing without the reshape\n",
    "rolls = np.random.choice([1, 2, 3, 4, 5, 6], n_trials * n_dice)\n",
    "rolls"
   ]
  },
  {
   "cell_type": "code",
   "execution_count": 6,
   "metadata": {},
   "outputs": [
    {
     "ename": "ValueError",
     "evalue": "only 2 non-keyword arguments accepted",
     "output_type": "error",
     "traceback": [
      "\u001b[0;31m---------------------------------------------------------------------------\u001b[0m",
      "\u001b[0;31mValueError\u001b[0m                                Traceback (most recent call last)",
      "\u001b[0;32m<ipython-input-6-724db8475e17>\u001b[0m in \u001b[0;36m<module>\u001b[0;34m\u001b[0m\n\u001b[1;32m      1\u001b[0m \u001b[0;31m# newarr = a[np.array([3, 1, 2 ])]\u001b[0m\u001b[0;34m\u001b[0m\u001b[0;34m\u001b[0m\u001b[0;34m\u001b[0m\u001b[0m\n\u001b[1;32m      2\u001b[0m \u001b[0;34m\u001b[0m\u001b[0m\n\u001b[0;32m----> 3\u001b[0;31m \u001b[0mnewarr1\u001b[0m \u001b[0;34m=\u001b[0m \u001b[0mrolls\u001b[0m\u001b[0;34m[\u001b[0m\u001b[0mnp\u001b[0m\u001b[0;34m.\u001b[0m\u001b[0marray\u001b[0m\u001b[0;34m(\u001b[0m\u001b[0;34m[\u001b[0m\u001b[0;36m0\u001b[0m\u001b[0;34m]\u001b[0m\u001b[0;34m,\u001b[0m \u001b[0mn_trials\u001b[0m\u001b[0;34m,\u001b[0m \u001b[0mn_dice\u001b[0m\u001b[0;34m)\u001b[0m\u001b[0;34m]\u001b[0m\u001b[0;34m\u001b[0m\u001b[0;34m\u001b[0m\u001b[0m\n\u001b[0m\u001b[1;32m      4\u001b[0m \u001b[0mnewarr1\u001b[0m\u001b[0;34m\u001b[0m\u001b[0;34m\u001b[0m\u001b[0m\n",
      "\u001b[0;31mValueError\u001b[0m: only 2 non-keyword arguments accepted"
     ]
    }
   ],
   "source": [
    "# newarr = a[np.array([3, 1, 2 ])] \n",
    "\n",
    "newarr1 = rolls[np.array([0], n_trials, n_dice)]\n",
    "newarr1"
   ]
  },
  {
   "cell_type": "code",
   "execution_count": 13,
   "metadata": {},
   "outputs": [],
   "source": [
    "newarr2 = rolls[np.array([1])]"
   ]
  },
  {
   "cell_type": "code",
   "execution_count": null,
   "metadata": {},
   "outputs": [],
   "source": []
  },
  {
   "cell_type": "code",
   "execution_count": null,
   "metadata": {},
   "outputs": [],
   "source": []
  },
  {
   "cell_type": "markdown",
   "metadata": {},
   "source": [
    " -- 2\n",
    " If you flip 8 coins,\n",
    " what is the probability of getting exactly 3 heads? \n",
    "     - array n_flips must == 3 [not < or >]\n",
    "     \n",
    " What is the probability of getting more than 3 heads?\n",
    "     - array n_flips must > 3"
   ]
  },
  {
   "cell_type": "code",
   "execution_count": 26,
   "metadata": {},
   "outputs": [
    {
     "data": {
      "text/plain": [
       "array([[0, 1, 0, 0, 0, 0, 0, 1],\n",
       "       [1, 0, 1, 1, 0, 1, 0, 1],\n",
       "       [0, 1, 1, 0, 0, 0, 1, 1],\n",
       "       [1, 0, 1, 0, 0, 0, 0, 1],\n",
       "       [1, 1, 0, 0, 1, 0, 0, 1],\n",
       "       [0, 1, 0, 1, 1, 1, 0, 0],\n",
       "       [0, 0, 1, 1, 0, 0, 1, 0],\n",
       "       [1, 0, 0, 1, 0, 1, 0, 1],\n",
       "       [0, 0, 0, 0, 1, 0, 0, 1],\n",
       "       [1, 1, 1, 0, 0, 0, 0, 1]])"
      ]
     },
     "execution_count": 26,
     "metadata": {},
     "output_type": "execute_result"
    }
   ],
   "source": [
    "n_flips = nrows = 10\n",
    "n_coins = ncols = 8\n",
    "np.random.seed(123)\n",
    "\n",
    "flips = np.random.choice([0,1], n_flips * n_coins).reshape(nrows, ncols)\n",
    "flips"
   ]
  },
  {
   "cell_type": "code",
   "execution_count": 27,
   "metadata": {},
   "outputs": [
    {
     "data": {
      "text/plain": [
       "array([2, 5, 4, 3, 4, 4, 3, 4, 2, 4])"
      ]
     },
     "execution_count": 27,
     "metadata": {},
     "output_type": "execute_result"
    }
   ],
   "source": [
    "flip_sum = np.sum(flips, axis=1)\n",
    "flip_sum"
   ]
  },
  {
   "cell_type": "code",
   "execution_count": null,
   "metadata": {},
   "outputs": [],
   "source": []
  },
  {
   "cell_type": "markdown",
   "metadata": {},
   "source": [
    "-- 3\n",
    "There are approximitely 3 web development cohorts for every 1 data science cohort at Codeup. \n",
    "Assuming that Codeup randomly selects an alumni to put on a billboard,\n",
    "what are the odds that the two billboards I drive past both have data science students on them?"
   ]
  },
  {
   "cell_type": "markdown",
   "metadata": {},
   "source": [
    "assumption - ea cohort is same number\n",
    "\n",
    "web_dev = 3 choices = [1,2,3]     vs.  ds_co = 1 choices [4]\n",
    "\n",
    "chance_pool = [1\n",
    "\n"
   ]
  },
  {
   "cell_type": "code",
   "execution_count": null,
   "metadata": {},
   "outputs": [],
   "source": []
  },
  {
   "cell_type": "markdown",
   "metadata": {},
   "source": [
    "-- 4\n",
    "Codeup students buy, on average, 3 poptart packages (+- 1.5) a day from the snack vending machine.\n",
    "If on monday the machine is restocked with 17 poptart packages, \n",
    "how likely is it that I will be able to buy some poptarts on Friday afternoon?"
   ]
  },
  {
   "cell_type": "code",
   "execution_count": null,
   "metadata": {},
   "outputs": [],
   "source": []
  },
  {
   "cell_type": "code",
   "execution_count": null,
   "metadata": {},
   "outputs": [],
   "source": [
    "-- 5\n",
    "Compare Heights\n",
    "\n",
    "- Men have an average height of 178 cm and standard deviation of 8cm.\n",
    "- Women have a mean of 170, sd = 6cm.\n",
    "- If a man and woman are chosen at random, P(woman taller than man)?"
   ]
  },
  {
   "cell_type": "markdown",
   "metadata": {},
   "source": []
  },
  {
   "cell_type": "markdown",
   "metadata": {},
   "source": [
    "-- 6\n",
    "When installing anaconda on a student's computer, \n",
    "   there's a 1 in 250 chance that the download is corrupted \n",
    "   and \n",
    "   the installation fails. \n",
    "   \n",
    "What are the odds that after having 50 students download anaconda, no one has an installation issue?\n",
    "    100 students?\n",
    "\n",
    "What is the probability that we observe an installation issue within the first 150 students that download anaconda?\n",
    "How likely is it that 450 students all download anaconda without an issue?"
   ]
  },
  {
   "cell_type": "code",
   "execution_count": null,
   "metadata": {},
   "outputs": [],
   "source": []
  },
  {
   "cell_type": "markdown",
   "metadata": {},
   "source": [
    "-- 7\n",
    "There's a 70% chance on any given day that there will be at least one food truck at Travis Park.\n",
    "However, you haven't seen a food truck there in 3 days.\n",
    "How unlikely is this?\n",
    "\n",
    "How likely is it that a food truck will show up sometime this week?"
   ]
  },
  {
   "cell_type": "code",
   "execution_count": null,
   "metadata": {},
   "outputs": [],
   "source": []
  },
  {
   "cell_type": "markdown",
   "metadata": {},
   "source": [
    "-- 8\n",
    "If 23 people are in the same room, \n",
    "what are the odds that two of them share a birthday? \n",
    "What if it's 20 people? 40?"
   ]
  }
 ],
 "metadata": {
  "kernelspec": {
   "display_name": "Python 3",
   "language": "python",
   "name": "python3"
  },
  "language_info": {
   "codemirror_mode": {
    "name": "ipython",
    "version": 3
   },
   "file_extension": ".py",
   "mimetype": "text/x-python",
   "name": "python",
   "nbconvert_exporter": "python",
   "pygments_lexer": "ipython3",
   "version": "3.7.3"
  }
 },
 "nbformat": 4,
 "nbformat_minor": 2
}
