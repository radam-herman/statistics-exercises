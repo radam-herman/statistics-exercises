{
 "cells": [
  {
   "cell_type": "markdown",
   "metadata": {},
   "source": [
    "Simulation exercise done in JNB"
   ]
  },
  {
   "cell_type": "code",
   "execution_count": 2,
   "metadata": {},
   "outputs": [],
   "source": [
    "import numpy as np\n",
    "import pandas as pd\n",
    "np.random.seed(123)\n",
    "\n"
   ]
  },
  {
   "cell_type": "markdown",
   "metadata": {},
   "source": [
    "# 1 How likely is it that you roll doubles when rolling two dice?"
   ]
  },
  {
   "cell_type": "code",
   "execution_count": 44,
   "metadata": {},
   "outputs": [],
   "source": [
    "n_trials = nrows = 50000000\n",
    "n_dice = ncols = 2\n",
    "np.random.seed(123)\n",
    "\n",
    "rolls = np.random.choice([1, 2, 3, 4, 5, 6], n_trials * n_dice).reshape(nrows, ncols)\n",
    "#rolls"
   ]
  },
  {
   "cell_type": "code",
   "execution_count": 45,
   "metadata": {},
   "outputs": [],
   "source": [
    "doubles_count = 0\n",
    "for roll in rolls:\n",
    "    if roll[0] == roll[1]:\n",
    "        doubles_count += 1"
   ]
  },
  {
   "cell_type": "code",
   "execution_count": 46,
   "metadata": {},
   "outputs": [
    {
     "data": {
      "text/plain": [
       "0.16670292"
      ]
     },
     "execution_count": 46,
     "metadata": {},
     "output_type": "execute_result"
    }
   ],
   "source": [
    "probability_of_doubles = doubles_count / len(rolls)\n",
    "probability_of_doubles"
   ]
  },
  {
   "cell_type": "code",
   "execution_count": null,
   "metadata": {},
   "outputs": [],
   "source": []
  },
  {
   "cell_type": "markdown",
   "metadata": {},
   "source": [
    " -- 2\n",
    " If you flip 8 coins,\n",
    " what is the probability of getting exactly 3 heads? \n",
    "     - array n_flips must == 3 [not < or >]\n",
    "     \n",
    " What is the probability of getting more than 3 heads?\n",
    "     - array n_flips must > 3"
   ]
  },
  {
   "cell_type": "code",
   "execution_count": 51,
   "metadata": {},
   "outputs": [],
   "source": [
    "n_flips = nrows = 100000\n",
    "n_coins = ncols = 8\n",
    "np.random.seed(123)\n",
    "\n",
    "flips = np.random.choice([0,1], n_flips * n_coins).reshape(nrows, ncols)\n",
    "# flips"
   ]
  },
  {
   "cell_type": "code",
   "execution_count": 52,
   "metadata": {},
   "outputs": [],
   "source": [
    "flip_sum = np.sum(flips, axis=1)\n",
    "# flip_sum"
   ]
  },
  {
   "cell_type": "code",
   "execution_count": 53,
   "metadata": {},
   "outputs": [],
   "source": [
    "heads_thrice_count = 0\n",
    "for flip in flip_sum:\n",
    "    if flip == 3:\n",
    "        heads_thrice_count += 1"
   ]
  },
  {
   "cell_type": "code",
   "execution_count": 54,
   "metadata": {},
   "outputs": [
    {
     "data": {
      "text/plain": [
       "0.22077"
      ]
     },
     "execution_count": 54,
     "metadata": {},
     "output_type": "execute_result"
    }
   ],
   "source": [
    "probability_3_heads_only = heads_thrice_count / len(flip_sum)\n",
    "probability_3_heads_only"
   ]
  },
  {
   "cell_type": "markdown",
   "metadata": {},
   "source": [
    "-- 3\n",
    "There are approximitely 3 web development cohorts for every 1 data science cohort at Codeup. \n",
    "Assuming that Codeup randomly selects an alumni to put on a billboard,\n",
    "what are the odds that the two billboards I drive past both have data science students on them?"
   ]
  },
  {
   "cell_type": "markdown",
   "metadata": {},
   "source": [
    "assumption - ea cohort is same number\n",
    "\n",
    "web_dev = 3 choices = [1,2,3]     vs.  ds_co = 1 choices [4]\n",
    "\n",
    "two billboards with ds_co = 4,4 #so 2 rolls of 4 sided die, counting a 4-4 double only\n"
   ]
  },
  {
   "cell_type": "code",
   "execution_count": 68,
   "metadata": {},
   "outputs": [],
   "source": [
    "n_rolls = nrows = 100000\n",
    "n_dice = ncols = 2\n",
    "np.random.seed(123)\n",
    "\n",
    "rolls = np.random.choice([1,2,3,4], n_rolls * n_dice).reshape(nrows, ncols)\n",
    "# rolls"
   ]
  },
  {
   "cell_type": "code",
   "execution_count": 69,
   "metadata": {},
   "outputs": [
    {
     "data": {
      "text/plain": [
       "6317"
      ]
     },
     "execution_count": 69,
     "metadata": {},
     "output_type": "execute_result"
    }
   ],
   "source": [
    "double_fours_count = 0\n",
    "for roll in rolls:\n",
    "    if (roll[0] + roll[1]) == 8:\n",
    "        double_fours_count += 1\n",
    "double_fours_count"
   ]
  },
  {
   "cell_type": "code",
   "execution_count": 70,
   "metadata": {},
   "outputs": [
    {
     "data": {
      "text/plain": [
       "0.06317"
      ]
     },
     "execution_count": 70,
     "metadata": {},
     "output_type": "execute_result"
    }
   ],
   "source": [
    "probability_two_ds_billboards = double_fours_count / len(rolls)\n",
    "probability_two_ds_billboards"
   ]
  },
  {
   "cell_type": "code",
   "execution_count": null,
   "metadata": {},
   "outputs": [],
   "source": []
  },
  {
   "cell_type": "markdown",
   "metadata": {},
   "source": [
    "-- 4\n",
    "Codeup students buy, on average, 3 poptart packages (+- 1.5) a day from the snack vending machine.\n",
    "If on monday the machine is restocked with 17 poptart packages, \n",
    "how likely is it that I will be able to buy some poptarts on Friday afternoon?"
   ]
  },
  {
   "cell_type": "code",
   "execution_count": null,
   "metadata": {},
   "outputs": [],
   "source": []
  },
  {
   "cell_type": "code",
   "execution_count": null,
   "metadata": {},
   "outputs": [],
   "source": [
    "-- 5\n",
    "Compare Heights\n",
    "\n",
    "- Men have an average height of 178 cm and standard deviation of 8cm.\n",
    "- Women have a mean of 170, sd = 6cm.\n",
    "- If a man and woman are chosen at random, P(woman taller than man)?"
   ]
  },
  {
   "cell_type": "markdown",
   "metadata": {},
   "source": []
  },
  {
   "cell_type": "markdown",
   "metadata": {},
   "source": [
    "-- 6\n",
    "When installing anaconda on a student's computer, \n",
    "   there's a 1 in 250 chance that the download is corrupted \n",
    "   and \n",
    "   the installation fails. \n",
    "   \n",
    "What are the odds that after having 50 students download anaconda, no one has an installation issue?\n",
    "    100 students?\n",
    "\n",
    "What is the probability that we observe an installation issue within the first 150 students that download anaconda?\n",
    "How likely is it that 450 students all download anaconda without an issue?"
   ]
  },
  {
   "cell_type": "code",
   "execution_count": null,
   "metadata": {},
   "outputs": [],
   "source": []
  },
  {
   "cell_type": "markdown",
   "metadata": {},
   "source": [
    "-- 7\n",
    "There's a 70% chance on any given day that there will be at least one food truck at Travis Park.\n",
    "However, you haven't seen a food truck there in 3 days.\n",
    "How unlikely is this?\n",
    "\n",
    "How likely is it that a food truck will show up sometime this week?"
   ]
  },
  {
   "cell_type": "code",
   "execution_count": null,
   "metadata": {},
   "outputs": [],
   "source": []
  },
  {
   "cell_type": "markdown",
   "metadata": {},
   "source": [
    "-- 8\n",
    "If 23 people are in the same room, \n",
    "what are the odds that two of them share a birthday? \n",
    "What if it's 20 people? 40?"
   ]
  }
 ],
 "metadata": {
  "kernelspec": {
   "display_name": "Python 3",
   "language": "python",
   "name": "python3"
  },
  "language_info": {
   "codemirror_mode": {
    "name": "ipython",
    "version": 3
   },
   "file_extension": ".py",
   "mimetype": "text/x-python",
   "name": "python",
   "nbconvert_exporter": "python",
   "pygments_lexer": "ipython3",
   "version": "3.7.3"
  }
 },
 "nbformat": 4,
 "nbformat_minor": 2
}
